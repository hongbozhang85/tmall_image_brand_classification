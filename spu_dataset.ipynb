{
 "cells": [
  {
   "cell_type": "markdown",
   "metadata": {},
   "source": [
    "# Make SPU Dataset\n",
    "\n",
    "In previous work, we focus on the problem of classifying a given image.\n",
    "\n",
    "However, in a real problem setting, we are required to classify an SPU, rather than a single image.\n",
    "\n",
    "An SPU has four or more images. It is a good practice to unify all prediction results of each image."
   ]
  },
  {
   "cell_type": "markdown",
   "metadata": {},
   "source": [
    "## Steps\n",
    "\n",
    "### Overall \n",
    "\n",
    "+ data set prepration\n",
    "    - training set\n",
    "    - validation set\n",
    "    - check overlap\n",
    "+ make prediction\n",
    "    - rewrite function `makePrediction`\n",
    "    - voting algorithm, a class\n",
    "+ model\n",
    "    - use model from a checking point\n",
    "    - train from scratch with new data set\n",
    "\n",
    "### Details\n",
    "\n",
    "***data set preparation.*** \n",
    "\n",
    "1. read `tmall_result.json`, `taobao_result.json` and `garbage_result.json`. filter out outliers.\n",
    "1. randomly pick 70% SPU for training and 30% SPU for validation for each brand\n",
    "2. 2% images in validation set as validation in learning curve.\n",
    "2. ~~~store all these pic in relavant directory.~~~\n",
    "    ```\n",
    "    \\dataset\n",
    "        |----train\n",
    "                |---- 4 sub-dir\n",
    "        |----val\n",
    "                |---- 4 sub-dir\n",
    "        |----vallearn\n",
    "    ```\n",
    "3. check whether there is overlap between training set and validation set.\n",
    "3. the images are saved in the same directory structure as before.\n",
    "\n",
    "***training***\n",
    "\n",
    "as usual, still train the classification of single image.    \n",
    "report the prediction accuracy of individual image in learning curve.\n",
    "\n",
    "***prediction***\n",
    "\n",
    "vote algorithm:\n",
    "+ sum weighted prob \n",
    "+ majority voting\n",
    "\n",
    "1. make prediction for each image in validatio set\n",
    "2. group images by SPU\n",
    "3. apply vote algorithm\n",
    "4. report SPU accuracy.\n",
    "\n",
    "### Release\n",
    "\n"
   ]
  },
  {
   "cell_type": "code",
   "execution_count": null,
   "metadata": {},
   "outputs": [],
   "source": []
  },
  {
   "cell_type": "code",
   "execution_count": null,
   "metadata": {},
   "outputs": [],
   "source": []
  },
  {
   "cell_type": "code",
   "execution_count": null,
   "metadata": {},
   "outputs": [],
   "source": []
  },
  {
   "cell_type": "code",
   "execution_count": null,
   "metadata": {},
   "outputs": [],
   "source": []
  }
 ],
 "metadata": {
  "kernelspec": {
   "display_name": "Python 3",
   "language": "python",
   "name": "python3"
  },
  "language_info": {
   "codemirror_mode": {
    "name": "ipython",
    "version": 3
   },
   "file_extension": ".py",
   "mimetype": "text/x-python",
   "name": "python",
   "nbconvert_exporter": "python",
   "pygments_lexer": "ipython3",
   "version": "3.6.4"
  }
 },
 "nbformat": 4,
 "nbformat_minor": 2
}
